{
 "cells": [
  {
   "cell_type": "code",
   "execution_count": 19,
   "id": "2684026e",
   "metadata": {},
   "outputs": [
    {
     "name": "stdout",
     "output_type": "stream",
     "text": [
      "2\n",
      "2 0 1\n",
      "1\n",
      "1 0\n",
      "0\n"
     ]
    }
   ],
   "source": [
    "test = int(input())\n",
    "for t in range(test):\n",
    "    data = list(map(int,input().split()))\n",
    "    list1 = data[1:]\n",
    "    list1.sort()\n",
    "    s =0\n",
    "    for i in list1:\n",
    "        s += abs(i - list1[data[0]//2])\n",
    "    print(s)"
   ]
  }
 ],
 "metadata": {
  "kernelspec": {
   "display_name": "Python 3 (ipykernel)",
   "language": "python",
   "name": "python3"
  },
  "language_info": {
   "codemirror_mode": {
    "name": "ipython",
    "version": 3
   },
   "file_extension": ".py",
   "mimetype": "text/x-python",
   "name": "python",
   "nbconvert_exporter": "python",
   "pygments_lexer": "ipython3",
   "version": "3.11.4"
  }
 },
 "nbformat": 4,
 "nbformat_minor": 5
}

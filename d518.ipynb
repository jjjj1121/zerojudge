{
 "cells": [
  {
   "cell_type": "code",
   "execution_count": 89,
   "id": "15892eac",
   "metadata": {},
   "outputs": [
    {
     "name": "stdout",
     "output_type": "stream",
     "text": [
      "5\n",
      "eine\n",
      "New! 1\n",
      "isis\n",
      "New! 2\n",
      "zwei\n",
      "New! 3\n",
      "drei\n",
      "New! 4\n",
      "zwei\n",
      "Old! 3\n"
     ]
    }
   ],
   "source": [
    "from sys import stdin\n",
    "for s in stdin:\n",
    "    d = {}\n",
    "    n = int(s)\n",
    "    c=1\n",
    "    for i in range(n):\n",
    "        string = stdin.readline()\n",
    "        if string in d.keys():\n",
    "            print(\"Old!\",d[string])\n",
    "        else:\n",
    "            print(\"New!\",c)\n",
    "            d[string] = c\n",
    "            c+=1"
   ]
  }
 ],
 "metadata": {
  "kernelspec": {
   "display_name": "Python 3 (ipykernel)",
   "language": "python",
   "name": "python3"
  },
  "language_info": {
   "codemirror_mode": {
    "name": "ipython",
    "version": 3
   },
   "file_extension": ".py",
   "mimetype": "text/x-python",
   "name": "python",
   "nbconvert_exporter": "python",
   "pygments_lexer": "ipython3",
   "version": "3.11.4"
  }
 },
 "nbformat": 4,
 "nbformat_minor": 5
}

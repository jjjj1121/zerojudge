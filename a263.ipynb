{
 "cells": [
  {
   "cell_type": "code",
   "execution_count": 3,
   "id": "064b63da",
   "metadata": {},
   "outputs": [
    {
     "name": "stdout",
     "output_type": "stream",
     "text": [
      "2011 1 1\n",
      "2011 1 2\n",
      "1\n"
     ]
    }
   ],
   "source": [
    "import datetime\n",
    "while(True):\n",
    "    try:\n",
    "        d1 = list(map(int,input().split())) \n",
    "        d2 =list(map(int,input().split()))       \n",
    "        d1 = datetime.datetime(d1[0],d1[1],d1[2])\n",
    "        d2 = datetime.datetime(d2[0],d2[1],d2[2])\n",
    "        print(abs((d1-d2).days))\n",
    "    except:\n",
    "        break"
   ]
  },
  {
   "cell_type": "code",
   "execution_count": null,
   "id": "d9e2b8f2",
   "metadata": {},
   "outputs": [],
   "source": []
  }
 ],
 "metadata": {
  "kernelspec": {
   "display_name": "Python 3 (ipykernel)",
   "language": "python",
   "name": "python3"
  },
  "language_info": {
   "codemirror_mode": {
    "name": "ipython",
    "version": 3
   },
   "file_extension": ".py",
   "mimetype": "text/x-python",
   "name": "python",
   "nbconvert_exporter": "python",
   "pygments_lexer": "ipython3",
   "version": "3.10.9"
  }
 },
 "nbformat": 4,
 "nbformat_minor": 5
}

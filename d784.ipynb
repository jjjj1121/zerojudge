{
 "cells": [
  {
   "cell_type": "code",
   "execution_count": 121,
   "id": "15892eac",
   "metadata": {},
   "outputs": [
    {
     "name": "stdout",
     "output_type": "stream",
     "text": [
      "3\n",
      "5 1 2 -3 4 5\n",
      "[1, 3, 0, 4, 9]\n",
      "5 1 2 3 4 5 \n",
      "[1, 3, 6, 10, 15]\n",
      "6 10 -5 7 6 -1 -3\n",
      "[10, 5, 12, 18, 17, 14]\n"
     ]
    }
   ],
   "source": [
    "test = int(input())\n",
    "for t in range(test):\n",
    "    sum_list = []\n",
    "    s=0\n",
    "    data = list(map(int,input().split()))\n",
    "    for i in range(data[0]):\n",
    "        s+= data[i+1]\n",
    "        sum_list.append(s)\n",
    "        if s <0 :\n",
    "            s=0\n",
    "    print(max(sum_list))"
   ]
  },
  {
   "cell_type": "code",
   "execution_count": null,
   "id": "b4128f91",
   "metadata": {},
   "outputs": [],
   "source": []
  },
  {
   "cell_type": "code",
   "execution_count": null,
   "id": "8218d88e",
   "metadata": {},
   "outputs": [],
   "source": []
  }
 ],
 "metadata": {
  "kernelspec": {
   "display_name": "Python 3 (ipykernel)",
   "language": "python",
   "name": "python3"
  },
  "language_info": {
   "codemirror_mode": {
    "name": "ipython",
    "version": 3
   },
   "file_extension": ".py",
   "mimetype": "text/x-python",
   "name": "python",
   "nbconvert_exporter": "python",
   "pygments_lexer": "ipython3",
   "version": "3.11.4"
  }
 },
 "nbformat": 4,
 "nbformat_minor": 5
}

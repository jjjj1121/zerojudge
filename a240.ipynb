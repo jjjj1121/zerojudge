{
 "cells": [
  {
   "cell_type": "code",
   "execution_count": 2,
   "id": "328185a2",
   "metadata": {},
   "outputs": [
    {
     "name": "stdout",
     "output_type": "stream",
     "text": [
      "2\n",
      "3\n",
      "8 13\n",
      "5\n",
      "2 23\n"
     ]
    }
   ],
   "source": [
    "n = int(input())\n",
    "for i in range(n):\n",
    "    sum=0\n",
    "    x = int(input())\n",
    "    num=1\n",
    "    a=0\n",
    "    for nn in range(x):\n",
    "        num = (num-a*17)*10\n",
    "        a=num//17\n",
    "        sum+=a\n",
    "    print(a,sum)  "
   ]
  }
 ],
 "metadata": {
  "kernelspec": {
   "display_name": "Python 3 (ipykernel)",
   "language": "python",
   "name": "python3"
  },
  "language_info": {
   "codemirror_mode": {
    "name": "ipython",
    "version": 3
   },
   "file_extension": ".py",
   "mimetype": "text/x-python",
   "name": "python",
   "nbconvert_exporter": "python",
   "pygments_lexer": "ipython3",
   "version": "3.10.9"
  }
 },
 "nbformat": 4,
 "nbformat_minor": 5
}

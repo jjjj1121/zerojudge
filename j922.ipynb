{
 "cells": [
  {
   "cell_type": "code",
   "execution_count": 16,
   "id": "15892eac",
   "metadata": {},
   "outputs": [
    {
     "name": "stdout",
     "output_type": "stream",
     "text": [
      "C++ And Python Are Object-Oriented Languages.\n",
      "C++ and python are object-oriented languages.\n",
      "C++ AND PYTHON ARE OBJECT-ORIENTED LANGUAGES.\n",
      "C++ And Python Are Object-Oriented\n",
      " Languages.\n",
      "c++ and python are object-oriented languages.\n"
     ]
    }
   ],
   "source": [
    "string = input().split()\n",
    "for i,s in enumerate(string):\n",
    "    if i ==0 :\n",
    "        print(f'{s.capitalize()}',end='')\n",
    "    else :\n",
    "        print(f' {s.lower()}',end = '')\n",
    "print()\n",
    "for i,s in enumerate(string):\n",
    "    if i == 0:\n",
    "        print(f'{s.upper()}',end='')\n",
    "    else:\n",
    "        print(f' {s.upper()}',end='')\n",
    "print()\n",
    "for i,s in enumerate(string):\n",
    "    if i == 0:\n",
    "        if '-' in s:\n",
    "            s1 ,s2 = s.split('-')\n",
    "            print(f'{s1.capitalize()}-{s2.capitalize()}',end='')\n",
    "        elif '\\'' in s :\n",
    "            s1 ,s2 = s.split('\\'')\n",
    "            print(f'{s1.capitalize()}\\'{s2.capitalize()}',end='')\n",
    "        else:\n",
    "            print(f'{s.capitalize()}',end='')\n",
    "    else:\n",
    "        if '-' in s:\n",
    "            s1 ,s2 = s.split('-')\n",
    "            print(f' {s1.capitalize()}-{s2.capitalize()}',end='')\n",
    "        elif '\\'' in s :\n",
    "            s1 ,s2 = s.split('\\'')\n",
    "            print(f' {s1.capitalize()}\\'{s2.capitalize()}',end='')\n",
    "        else:\n",
    "            print(f' {s.capitalize()}',end='')\n",
    "print()\n",
    "for i,s in enumerate(string):\n",
    "    if i == 0:\n",
    "        print(f'{s.lower()}',end='')\n",
    "    else:\n",
    "        print(f' {s.lower()}',end='')\n",
    "print()"
   ]
  },
  {
   "cell_type": "code",
   "execution_count": null,
   "id": "9719e696",
   "metadata": {},
   "outputs": [],
   "source": []
  }
 ],
 "metadata": {
  "kernelspec": {
   "display_name": "Python 3 (ipykernel)",
   "language": "python",
   "name": "python3"
  },
  "language_info": {
   "codemirror_mode": {
    "name": "ipython",
    "version": 3
   },
   "file_extension": ".py",
   "mimetype": "text/x-python",
   "name": "python",
   "nbconvert_exporter": "python",
   "pygments_lexer": "ipython3",
   "version": "3.11.4"
  }
 },
 "nbformat": 4,
 "nbformat_minor": 5
}

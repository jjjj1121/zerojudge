{
 "cells": [
  {
   "cell_type": "code",
   "execution_count": null,
   "id": "15892eac",
   "metadata": {},
   "outputs": [
    {
     "name": "stdout",
     "output_type": "stream",
     "text": [
      "2\n",
      "5 2 4 6 8 10\n",
      "6.00\n"
     ]
    }
   ],
   "source": [
    "test = int(input())\n",
    "for t in range(test):\n",
    "    data = list(map(int,input().split()))\n",
    "    print(f'{round((sum(data)-data[0])/data[0],2):.2f}')"
   ]
  },
  {
   "cell_type": "code",
   "execution_count": null,
   "id": "27890ee8",
   "metadata": {},
   "outputs": [],
   "source": []
  },
  {
   "cell_type": "code",
   "execution_count": null,
   "id": "ce9dbb56",
   "metadata": {},
   "outputs": [],
   "source": []
  }
 ],
 "metadata": {
  "kernelspec": {
   "display_name": "Python 3 (ipykernel)",
   "language": "python",
   "name": "python3"
  },
  "language_info": {
   "codemirror_mode": {
    "name": "ipython",
    "version": 3
   },
   "file_extension": ".py",
   "mimetype": "text/x-python",
   "name": "python",
   "nbconvert_exporter": "python",
   "pygments_lexer": "ipython3",
   "version": "3.11.4"
  }
 },
 "nbformat": 4,
 "nbformat_minor": 5
}

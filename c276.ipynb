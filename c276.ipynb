{
 "cells": [
  {
   "cell_type": "code",
   "execution_count": 15,
   "id": "f51f6fe7",
   "metadata": {},
   "outputs": [
    {
     "name": "stdout",
     "output_type": "stream",
     "text": [
      "1 9 2\n",
      "1 3 5 7 9 "
     ]
    }
   ],
   "source": [
    "ans = input()\n",
    "n = int(input())\n",
    "for i in range(n):\n",
    "    guess = input()\n",
    "    a=0\n",
    "    b=0\n",
    "    for j in range(4):\n",
    "        if ans[j]==guess[j]:\n",
    "            a+=1\n",
    "            continue\n",
    "        elif guess[j]==ans[0] or guess[j]==ans[1] or guess[j]==ans[2] or guess[j]==ans[3]:\n",
    "            b+=1\n",
    "    print(f'{a}A{b}B')"
   ]
  },
  {
   "cell_type": "markdown",
   "id": "c3737fda",
   "metadata": {},
   "source": []
  }
 ],
 "metadata": {
  "kernelspec": {
   "display_name": "Python 3 (ipykernel)",
   "language": "python",
   "name": "python3"
  },
  "language_info": {
   "codemirror_mode": {
    "name": "ipython",
    "version": 3
   },
   "file_extension": ".py",
   "mimetype": "text/x-python",
   "name": "python",
   "nbconvert_exporter": "python",
   "pygments_lexer": "ipython3",
   "version": "3.11.4"
  }
 },
 "nbformat": 4,
 "nbformat_minor": 5
}

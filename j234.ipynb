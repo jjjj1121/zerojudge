{
 "cells": [
  {
   "cell_type": "code",
   "execution_count": 1,
   "id": "15892eac",
   "metadata": {},
   "outputs": [
    {
     "name": "stdout",
     "output_type": "stream",
     "text": [
      "19 5\n"
     ]
    }
   ],
   "source": [
    "a,b = map(int,input().split())\n",
    "first = input().split()\n",
    "second = input().split()\n",
    "c=0\n",
    "for i in first :\n",
    "    if i in second:\n",
    "        pass\n",
    "    else :\n",
    "        c+=1\n",
    "print(c)"
   ]
  },
  {
   "cell_type": "code",
   "execution_count": null,
   "id": "06918065",
   "metadata": {},
   "outputs": [],
   "source": []
  }
 ],
 "metadata": {
  "kernelspec": {
   "display_name": "Python 3 (ipykernel)",
   "language": "python",
   "name": "python3"
  },
  "language_info": {
   "codemirror_mode": {
    "name": "ipython",
    "version": 3
   },
   "file_extension": ".py",
   "mimetype": "text/x-python",
   "name": "python",
   "nbconvert_exporter": "python",
   "pygments_lexer": "ipython3",
   "version": "3.11.4"
  }
 },
 "nbformat": 4,
 "nbformat_minor": 5
}

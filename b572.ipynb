{
 "cells": [
  {
   "cell_type": "code",
   "execution_count": 5,
   "id": "b43efa47",
   "metadata": {},
   "outputs": [
    {
     "name": "stdout",
     "output_type": "stream",
     "text": [
      "2\n",
      "21 00 21 15 13\n",
      "Yes\n",
      "20 55 21 12 20\n",
      "No\n"
     ]
    }
   ],
   "source": [
    "test = int(input())\n",
    "for t in range(test):\n",
    "    sum=0\n",
    "    h1,m1,h2,m2,time = map(int,input().split())\n",
    "    if m2<m1:\n",
    "        h2-=1\n",
    "        sum+=m2-m1+60+(h2-h1)*60\n",
    "    else:\n",
    "        sum = (h2-h1)*60+m2-m1\n",
    "    if sum >=time :\n",
    "        print(\"Yes\")\n",
    "    else:\n",
    "        print(\"No\")"
   ]
  },
  {
   "cell_type": "code",
   "execution_count": null,
   "id": "15631d73",
   "metadata": {},
   "outputs": [],
   "source": []
  }
 ],
 "metadata": {
  "kernelspec": {
   "display_name": "Python 3 (ipykernel)",
   "language": "python",
   "name": "python3"
  },
  "language_info": {
   "codemirror_mode": {
    "name": "ipython",
    "version": 3
   },
   "file_extension": ".py",
   "mimetype": "text/x-python",
   "name": "python",
   "nbconvert_exporter": "python",
   "pygments_lexer": "ipython3",
   "version": "3.11.4"
  }
 },
 "nbformat": 4,
 "nbformat_minor": 5
}

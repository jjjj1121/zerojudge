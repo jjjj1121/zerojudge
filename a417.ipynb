{
 "cells": [
  {
   "cell_type": "code",
   "execution_count": 14,
   "id": "d9967356",
   "metadata": {},
   "outputs": [
    {
     "name": "stdout",
     "output_type": "stream",
     "text": [
      "1\n",
      "5 3 2 4 3 10\n",
      "1 1 2 3 3 3 3 4 3 3\n",
      "1g\n"
     ]
    }
   ],
   "source": [
    "test = int(input())       \n",
    "for k in range(test):\n",
    "    m, s = map(int, input().split())\n",
    "    num = m*m      \n",
    "    turn = 1       \n",
    "    x, y = 0, 0     \n",
    "    x1, y1 = 0, 0   \n",
    "    x2, y2 = m - 1, m - 1    \n",
    "    output = []    \n",
    "    for i in range(m):\n",
    "        output.append([0 for j in range(m)])    \n",
    "\n",
    "    for i in range(1,num+1):       \n",
    "\n",
    "        if s == 1: output[y][x] = i   \n",
    "        else: output[x][y] = i        \n",
    "\n",
    "        if i == num: break            \n",
    "\n",
    "        if turn == 1: x = x + 1       \n",
    "        if turn == 2: y = y + 1       \n",
    "        if turn == 3: x = x - 1      \n",
    "        if turn == 4: y = y - 1      \n",
    "            \n",
    "        if x == x2 and y == y1 and turn == 1:  \n",
    "            turn = 2                             \n",
    "            y1 = y1 + 1                          \n",
    "        if x == x2 and y == y2 and turn == 2:  \n",
    "            turn = 3                             \n",
    "            x2 = x2 - 1                          \n",
    "        if x == x1 and y == y2 and turn == 3:  \n",
    "            turn = 4                             \n",
    "            y2 = y2 - 1                          \n",
    "        if x == x1 and y == y1 and turn == 4:  \n",
    "            turn = 1                             \n",
    "            x1 = x1 + 1                          \n",
    "\n",
    "    for i in output:\n",
    "        for j in i:\n",
    "            print(f'{j: 5d}', end='')\n",
    "        print()"
   ]
  }
 ],
 "metadata": {
  "kernelspec": {
   "display_name": "Python 3 (ipykernel)",
   "language": "python",
   "name": "python3"
  },
  "language_info": {
   "codemirror_mode": {
    "name": "ipython",
    "version": 3
   },
   "file_extension": ".py",
   "mimetype": "text/x-python",
   "name": "python",
   "nbconvert_exporter": "python",
   "pygments_lexer": "ipython3",
   "version": "3.11.4"
  }
 },
 "nbformat": 4,
 "nbformat_minor": 5
}

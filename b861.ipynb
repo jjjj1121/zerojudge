{
 "cells": [
  {
   "cell_type": "code",
   "execution_count": 6,
   "id": "f51f6fe7",
   "metadata": {},
   "outputs": [
    {
     "name": "stdout",
     "output_type": "stream",
     "text": [
      "j\n",
      "j\n",
      "j\n",
      "a\n",
      "b\n",
      "c\n"
     ]
    }
   ],
   "source": [
    "test = int(input())\n",
    "for t in range(test):\n",
    "    count_chi = 0\n",
    "    count_tu = 0\n",
    "    flag=0\n",
    "    list1 =list(input().split())\n",
    "    for i in list1:\n",
    "        if i ==\"chi\":\n",
    "            count_chi += 1\n",
    "        elif i ==\"tu\":\n",
    "            count_tu += 1\n",
    "            if count_tu>count_chi: #葡萄皮>葡萄\n",
    "               flag=1\n",
    "    if count_chi>count_tu and flag==1: #同時發生\n",
    "        print(\"chi pu tao bu tu pu tao pi, bu chi pu tao dao tu pu tao pi\")\n",
    "    elif count_chi>count_tu: #葡萄>葡萄皮\n",
    "        print(\"chi pu tao bu tu pu tao pi\")\n",
    "    elif flag==1 :\n",
    "        print(\"bu chi pu tao dao tu pu tao pi\")\n",
    "    else:\n",
    "        print( \"chi pu tao tu pu tao pi\")"
   ]
  }
 ],
 "metadata": {
  "kernelspec": {
   "display_name": "Python 3 (ipykernel)",
   "language": "python",
   "name": "python3"
  },
  "language_info": {
   "codemirror_mode": {
    "name": "ipython",
    "version": 3
   },
   "file_extension": ".py",
   "mimetype": "text/x-python",
   "name": "python",
   "nbconvert_exporter": "python",
   "pygments_lexer": "ipython3",
   "version": "3.11.4"
  }
 },
 "nbformat": 4,
 "nbformat_minor": 5
}

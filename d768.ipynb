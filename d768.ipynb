{
 "cells": [
  {
   "cell_type": "code",
   "execution_count": null,
   "metadata": {},
   "outputs": [],
   "source": [
    "def dfs(node, color, graph, colors):\n",
    "    colors[node] = color\n",
    "    for neighbor in graph[node]:\n",
    "        if colors[neighbor] == color:\n",
    "            return False\n",
    "        if colors[neighbor] == 0 and not dfs(neighbor, -color, graph, colors):\n",
    "            return False\n",
    "    return True\n",
    "while True:\n",
    "    n = int(input())\n",
    "    if n == 0:\n",
    "        break\n",
    "    m = int(input())\n",
    "    graph = {i: [] for i in range(n)}\n",
    "    for _ in range(m):\n",
    "        u, v = map(int, input().split())\n",
    "        graph[u].append(v)\n",
    "        graph[v].append(u)\n",
    "    colors = [0] * n\n",
    "    if dfs(0, 1, graph, colors):\n",
    "        print(\"BICOLORABLE.\")\n",
    "    else:\n",
    "        print(\"NOT BICOLORABLE.\")"
   ]
  }
 ],
 "metadata": {
  "language_info": {
   "name": "python"
  }
 },
 "nbformat": 4,
 "nbformat_minor": 2
}

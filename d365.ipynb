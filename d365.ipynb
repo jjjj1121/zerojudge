{
 "cells": [
  {
   "cell_type": "code",
   "execution_count": null,
   "metadata": {},
   "outputs": [],
   "source": [
    "from collections import defaultdict\n",
    "def dfs(m, i, j, v, l):\n",
    "    if i < 0 or i >= len(m) or j < 0 or j >= len(m[0]):\n",
    "        return\n",
    "    if (i, j) in v:\n",
    "        return\n",
    "    if m[i][j] != l:\n",
    "        return\n",
    "    v.add((i, j))\n",
    "    dfs(m, i-1, j, v, l)\n",
    "    dfs(m, i+1, j, v, l)\n",
    "    dfs(m, i, j-1, v, l)\n",
    "    dfs(m, i, j+1, v, l)\n",
    "def count_ls(m):\n",
    "    count_dict = defaultdict(int)\n",
    "    v = set()\n",
    "    for i in range(len(m)):\n",
    "        for j in range(len(m[0])):\n",
    "            l = m[i][j]\n",
    "            if (i, j) not in v:\n",
    "                dfs(m, i, j, v, l)\n",
    "                count_dict[l] += 1\n",
    "    return count_dict\n",
    "N = int(input())\n",
    "for k in range(1, N+1):\n",
    "    H, W = map(int, input().split())\n",
    "    m = []\n",
    "    for _ in range(H):\n",
    "        row = input().strip()\n",
    "        m.append(list(row))\n",
    "    count_dict = count_ls(m)\n",
    "    print(f\"World #{k}\")\n",
    "    for l, count in sorted(count_dict.items(), key=lambda x: (-x[1], x[0])):\n",
    "        print(f\"{l}: {count}\")"
   ]
  }
 ],
 "metadata": {
  "language_info": {
   "name": "python"
  }
 },
 "nbformat": 4,
 "nbformat_minor": 2
}

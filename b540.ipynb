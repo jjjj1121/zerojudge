{
 "cells": [
  {
   "cell_type": "code",
   "execution_count": 21,
   "id": "e7ffaa6b",
   "metadata": {},
   "outputs": [
    {
     "name": "stdout",
     "output_type": "stream",
     "text": [
      "1 1 1 1 1 1\n",
      "6\n",
      "1 2 1 2 1 2\n",
      "13\n",
      "2 4 5 3 3 6\n",
      "83\n"
     ]
    }
   ],
   "source": [
    "while 1:\n",
    "    try:\n",
    "        list1 = [0,0]\n",
    "        data =list(map(int,input().split()))\n",
    "        list1[0]=data[0]+data[1]+data[2]\n",
    "        list1[1]=data[1]+data[2]+data[3]\n",
    "        if list1[0] >=list1[1]:\n",
    "            m=0\n",
    "        else:\n",
    "            m=1\n",
    "        big_tri_area = max(list1)**2\n",
    "        print(big_tri_area - data[m]**2-data[m+2]**2-data[m+4]**2)\n",
    "    except:\n",
    "        break"
   ]
  },
  {
   "cell_type": "code",
   "execution_count": null,
   "id": "b43efa47",
   "metadata": {},
   "outputs": [],
   "source": []
  }
 ],
 "metadata": {
  "kernelspec": {
   "display_name": "Python 3 (ipykernel)",
   "language": "python",
   "name": "python3"
  },
  "language_info": {
   "codemirror_mode": {
    "name": "ipython",
    "version": 3
   },
   "file_extension": ".py",
   "mimetype": "text/x-python",
   "name": "python",
   "nbconvert_exporter": "python",
   "pygments_lexer": "ipython3",
   "version": "3.11.4"
  }
 },
 "nbformat": 4,
 "nbformat_minor": 5
}

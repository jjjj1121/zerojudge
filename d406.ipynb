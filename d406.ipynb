{
 "cells": [
  {
   "cell_type": "code",
   "execution_count": null,
   "metadata": {},
   "outputs": [],
   "source": [
    "def bfs():\n",
    "    while q:\n",
    "        x, y, t = q.pop(0)\n",
    "        for i in range(num):\n",
    "            nx = x + dx[i]\n",
    "            ny = y + dy[i]\n",
    "            if nx >= 0 and nx < N and ny >= 0 and ny < M and a[nx][ny] ==1 and visited[nx][ny] == 0:\n",
    "                q.append((nx, ny, t+1))\n",
    "                visited[nx][ny] = 1\n",
    "                ans[nx][ny] = t+1;\n",
    "\n",
    "a = [[None for _ in range(200)] for _ in range(200)] \n",
    "visited = [[0 for _ in range(200)] for _ in range(200)]\n",
    "dx = [0, 0, 1, -1]\n",
    "dy = [1, -1, 0, 0]\n",
    "casenumber = 1;\n",
    "while True:\n",
    "    ans = [[0 for _ in range(200)] for _ in range(200)] \n",
    "    q = []\n",
    "    try:\n",
    "        S = int(input())\n",
    "        if S==1: \n",
    "            num = 4\n",
    "        elif S == 2:\n",
    "            num = 3\n",
    "        N, M = map(int, input().split())\n",
    "        for i in range(N):\n",
    "            a[i] = list(map(int,input().split()))\n",
    "            for j in range(M):\n",
    "                visited[i][j] = 0\n",
    "        for i in range(M):\n",
    "            if a[0][i] ==1:\n",
    "                nextnode = (0,i,1)\n",
    "                ans[0][i] = 1;\n",
    "                q = [nextnode]\n",
    "                visited[nextnode[0]][nextnode[1]] = 1\n",
    "                bfs()\n",
    "        print(\"Case {}:\".format(casenumber))\n",
    "        casenumber +=1\n",
    "        for i in range(N):\n",
    "            for j in range(M):\n",
    "                if j == M-1:\n",
    "                    print(ans[i][j],end =\"\\n\")\n",
    "                else:\n",
    "                    print(ans[i][j],end =\" \")\n",
    "    except:\n",
    "        break;"
   ]
  }
 ],
 "metadata": {
  "language_info": {
   "name": "python"
  }
 },
 "nbformat": 4,
 "nbformat_minor": 2
}

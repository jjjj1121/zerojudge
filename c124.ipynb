{
 "cells": [
  {
   "cell_type": "code",
   "execution_count": null,
   "metadata": {},
   "outputs": [],
   "source": [
    "def bfs():\n",
    "    q = [S]\n",
    "    visited[S[0]][S[1]][S[2]] = 1\n",
    "    while q:\n",
    "        x, y, z, t = q.pop(0)\n",
    "        if x == E[0] and y == E[1] and z == E[2]:\n",
    "            return t\n",
    "        for i in range(6):\n",
    "            nx = x + dx[i]\n",
    "            ny = y + dy[i]\n",
    "            nz = z + dz[i]\n",
    "            if nx >= 0 and nx < L and ny >= 0 and ny < R and nz >= 0 and nz < C and a[nx][ny][nz] != '#' and visited[nx][ny][nz] == 0:\n",
    "                q.append((nx, ny, nz, t+1))\n",
    "                visited[nx][ny][nz] = 1\n",
    "    return -1\n",
    "\n",
    "a = [[[None for _ in range(31)] for _ in range(31)] for _ in range(31)]\n",
    "visited = [[[0 for _ in range(31)] for _ in range(31)] for _ in range(31)]\n",
    "dx = [0, 0, 0, 0, 1, -1]\n",
    "dy = [0, 0, 1, -1, 0, 0]\n",
    "dz = [1, -1, 0, 0, 0, 0]\n",
    " \n",
    "while True:\n",
    "    L, R, C = map(int, input().split())\n",
    "    if L == 0 and R == 0 and C == 0:\n",
    "        break\n",
    " \n",
    "    for i in range(L):\n",
    "        for j in range(R):\n",
    "            a[i][j] = list(input())\n",
    "            for k in range(C):\n",
    "                visited[i][j][k] = 0\n",
    "                if a[i][j][k] == 'S':\n",
    "                    S = (i, j, k, 0)\n",
    "                if a[i][j][k] == 'E':\n",
    "                    E = (i, j, k)\n",
    "        _ = input() #在一層描述完後有一列空白區隔\n",
    " \n",
    "    Time = bfs()\n",
    "    if Time != -1:\n",
    "        print(f\"Escaped in {Time} minute(s).\")\n",
    "    else:\n",
    "        print(\"Trapped!\")"
   ]
  }
 ],
 "metadata": {
  "language_info": {
   "name": "python"
  }
 },
 "nbformat": 4,
 "nbformat_minor": 2
}
